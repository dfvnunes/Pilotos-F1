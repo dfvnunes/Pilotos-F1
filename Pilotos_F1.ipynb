{
  "nbformat": 4,
  "nbformat_minor": 0,
  "metadata": {
    "colab": {
      "provenance": [],
      "authorship_tag": "ABX9TyP0V9WfeJeAa5VVRFoVgwTw",
      "include_colab_link": true
    },
    "kernelspec": {
      "name": "python3",
      "display_name": "Python 3"
    },
    "language_info": {
      "name": "python"
    }
  },
  "cells": [
    {
      "cell_type": "markdown",
      "metadata": {
        "id": "view-in-github",
        "colab_type": "text"
      },
      "source": [
        "<a href=\"https://colab.research.google.com/github/dfvnunes/Pilotos-F1/blob/main/Pilotos_F1.ipynb\" target=\"_parent\"><img src=\"https://colab.research.google.com/assets/colab-badge.svg\" alt=\"Open In Colab\"/></a>"
      ]
    },
    {
      "cell_type": "code",
      "execution_count": 4,
      "metadata": {
        "colab": {
          "base_uri": "https://localhost:8080/"
        },
        "id": "Qj07LAOgjgs5",
        "outputId": "647c16d6-59d4-45c6-b115-fa8bc391fcd8"
      },
      "outputs": [
        {
          "output_type": "stream",
          "name": "stdout",
          "text": [
            "Limpeza concluída: 873 linhas processadas. Ficheiro guardado em 'Pilotos-F1_limpo.xlsx'.\n"
          ]
        }
      ],
      "source": [
        "import pandas as pd\n",
        "import re\n",
        "\n",
        "def clean_brackets(val: str) -> str:\n",
        "    \"\"\"\n",
        "    Remove everything between square brackets, preserving the rest.\n",
        "    E.g. \"17[1]\" -> \"17\".\n",
        "    \"\"\"\n",
        "    return re.sub(r\"\\[.*?\\]\", \"\", str(val)).strip()\n",
        "\n",
        "def extract_parentheses(val: str) -> str:\n",
        "    \"\"\"\n",
        "    Extract the content inside the last pair of parentheses.\n",
        "    E.g. \"107,64 (140,14) [1/7]\" -> \"140,14\"; \"255 (274)\" -> \"274\".\n",
        "    \"\"\"\n",
        "    matches = re.findall(r\"\\(([^)]+)\\)\", str(val))\n",
        "    return matches[-1] if matches else clean_brackets(val)\n",
        "\n",
        "def extract_years(season_str):\n",
        "\n",
        "    \"\"\"\n",
        "    Extracts every individual year from a seasons string, going through\n",
        "    all the ranges (e.g.:'1989-2001') and lists separated wuth commas.\n",
        "    Returns a set of years.\n",
        "    \"\"\"\n",
        "\n",
        "    years = set()\n",
        "    # Remove aspas e divide por vírgulas\n",
        "    for part in str(season_str).replace('\"', '').split(','):\n",
        "        part = part.strip()\n",
        "        if '-' in part:\n",
        "            start, end = part.split('-')\n",
        "            try:\n",
        "                start, end = int(start), int(end)\n",
        "                # Adiciona todos os anos no intervalo inclusive\n",
        "                years.update(range(start, end + 1))\n",
        "            except ValueError:\n",
        "                continue\n",
        "        else:\n",
        "            try:\n",
        "                years.add(int(part))\n",
        "            except ValueError:\n",
        "                continue\n",
        "    return years\n",
        "\n",
        "def dominant_decade(season_str):\n",
        "\n",
        "    \"\"\"\n",
        "    Based on the seasons string, calculates the dominant decade,\n",
        "    the one where each driver raced for most years.\n",
        "    Returns the first year of each decade (1990, 1970).\n",
        "    \"\"\"\n",
        "\n",
        "    years = extract_years(season_str)\n",
        "    if not years:\n",
        "        return None\n",
        "\n",
        "    # Counts how many years in each decade\n",
        "    decade_counts = {}\n",
        "    for y in years:\n",
        "        dec = (y // 10) * 10\n",
        "        decade_counts[dec] = decade_counts.get(dec, 0) + 1\n",
        "\n",
        "      # Selects the decade with more years (in case of a 50/50\n",
        "      # split the most recent is selected)\n",
        "    dominant = max(decade_counts.items(), key=lambda x: (x[1], x[0]))[0]\n",
        "    return dominant\n",
        "\n",
        "# 1. Load the original Excel file\n",
        "input_path = 'Pilotos F1.xlsx'\n",
        "df = pd.read_excel(input_path, sheet_name='Pilotos F1')\n",
        "\n",
        "# 2. Clean all columns except \"Pontos\": remove bracketed notes\n",
        "cols_to_clean = [c for c in df.columns if c != 'Pontos']\n",
        "for col in cols_to_clean:\n",
        "    df[col] = df[col].apply(clean_brackets)\n",
        "\n",
        "# 3. Clean \"Pontos\" column: keep only the value in parentheses (or main value if none)\n",
        "df['Pontos'] = df['Pontos'].apply(extract_parentheses)\n",
        "\n",
        "# 4. Add column 'Década_Predominante'\n",
        "df['Década_Predominante'] = df['Temporadas'].apply(dominant_decade)\n",
        "\n",
        "# 5. Save data to a new Excel file\n",
        "output_path = 'Pilotos-F1_limpo.xlsx'\n",
        "df.to_excel(output_path, index=False)\n",
        "\n",
        "print(f\"Limpeza concluída: {len(df)} linhas processadas. Ficheiro guardado em '{output_path}'.\")\n"
      ]
    }
  ]
}